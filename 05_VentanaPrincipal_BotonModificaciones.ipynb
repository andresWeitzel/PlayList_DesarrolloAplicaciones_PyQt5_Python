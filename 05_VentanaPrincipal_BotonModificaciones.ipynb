{
 "cells": [
  {
   "cell_type": "code",
   "execution_count": 1,
   "id": "710065b1",
   "metadata": {},
   "outputs": [
    {
     "name": "stdout",
     "output_type": "stream",
     "text": [
      "Estado Actual True\n",
      "Estado Actual False\n",
      "Estado Actual True\n",
      "Estado Actual False\n",
      "Estado Actual True\n",
      "Estado Actual False\n"
     ]
    },
    {
     "data": {
      "text/plain": [
       "0"
      ]
     },
     "execution_count": 1,
     "metadata": {},
     "output_type": "execute_result"
    }
   ],
   "source": [
    "\n",
    "\n",
    "import sys\n",
    "from PyQt5.QtWidgets import QApplication, QPushButton\n",
    "\n",
    "app = QApplication(sys.argv)\n",
    "\n",
    "#=============== FUNCION BOTON ==================\n",
    "#Vamos a usar los estados para cambiar el titulo y el tamaño\n",
    "estadoBoton=True\n",
    "\n",
    "def funcionEstadoActualBoton(estado):\n",
    "    estadoBoton = estado\n",
    "    print(\"Estado Actual\",estadoBoton)\n",
    "    \n",
    "    if estadoBoton == True:\n",
    "        boton.resize(800,400)\n",
    "        boton.setWindowTitle('ESTADO TRUE')\n",
    "    else:\n",
    "        boton.resize(600,200)\n",
    "        boton.setWindowTitle('ESTADO FALSE')\n",
    "    \n",
    " \n",
    "#=============== BOTON ==================\n",
    "\n",
    "#Instanciamos un objeto de la clase QPushButton\n",
    "boton = QPushButton(\"Boton\")\n",
    "\n",
    "boton.resize(300,300)\n",
    "boton.setWindowTitle('SIN ESTADO')\n",
    "\n",
    "#Habilitamos el cambio de estado\n",
    "boton.setCheckable(True)\n",
    "boton.clicked.connect(funcionEstadoActualBoton)\n",
    "\n",
    "#=============== EJECUCION ==================\n",
    "boton.show()\n",
    "\n",
    "app.exec_()\n",
    "\n"
   ]
  },
  {
   "cell_type": "code",
   "execution_count": null,
   "id": "5649a194",
   "metadata": {},
   "outputs": [],
   "source": []
  }
 ],
 "metadata": {
  "kernelspec": {
   "display_name": "Python 3",
   "language": "python",
   "name": "python3"
  },
  "language_info": {
   "codemirror_mode": {
    "name": "ipython",
    "version": 3
   },
   "file_extension": ".py",
   "mimetype": "text/x-python",
   "name": "python",
   "nbconvert_exporter": "python",
   "pygments_lexer": "ipython3",
   "version": "3.8.3"
  }
 },
 "nbformat": 4,
 "nbformat_minor": 5
}
