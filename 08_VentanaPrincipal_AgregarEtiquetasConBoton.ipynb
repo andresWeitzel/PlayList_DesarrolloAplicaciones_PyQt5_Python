{
 "cells": [
  {
   "cell_type": "code",
   "execution_count": null,
   "id": "5b38013e",
   "metadata": {},
   "outputs": [],
   "source": [
    "\n",
    "import sys\n",
    "from PyQt5.QtWidgets import QApplication, QPushButton, QLabel, QVBoxLayout, QWidget\n",
    "\n",
    "\n",
    "\n",
    "app = QApplication(sys.argv)\n",
    "\n",
    "\n",
    "#=============== BOTON ==================\n",
    "boton = QPushButton(\"BOTON\")\n",
    "\n",
    "#=============== ETIQUETA ==================\n",
    "textoEtiqueta=\"Nombre: Marcela  | Apellido: Perez | Edad: 34 años | Nro de Teléfono: 678976584\"\n",
    "etiqueta = QLabel(textoEtiqueta)\n",
    "\n",
    "#=============== CONTENEDOR ETIQUETA ==================\n",
    "#Diseñador de Etiquetas\n",
    "contenedorEtiqueta = QVBoxLayout()\n",
    "contenedorEtiqueta.addWidget(boton)\n",
    "\n",
    "#=============== CONTENEDOR PRINCIPAL ==================\n",
    "contenedorPrincipal = QWidget()\n",
    "contenedorPrincipal.setLayout(contenedorEtiqueta)\n",
    "\n",
    "\n",
    "#=============== FUNCION AGREGAR ETIQUETA ==================\n",
    "\n",
    "def funcionAgregarEtiqueta():\n",
    "    contenedorEtiqueta.addWidget(etiqueta)\n",
    "\n",
    "#=============== CAMBIO DE ESTADO DEL BOTON E INVOCACION DE LA FUNCION  ==================  \n",
    "boton.setCheckable(True)\n",
    "boton.clicked.connect(funcionAgregarEtiqueta)   \n",
    "\n",
    "\n",
    "\n",
    "#==================== EJECUCION =================\n",
    "contenedorPrincipal.show()\n",
    "boton.show()\n",
    "\n",
    "app.exec()"
   ]
  },
  {
   "cell_type": "code",
   "execution_count": null,
   "id": "50a11aae",
   "metadata": {},
   "outputs": [],
   "source": []
  },
  {
   "cell_type": "code",
   "execution_count": null,
   "id": "4c4affc5",
   "metadata": {},
   "outputs": [],
   "source": []
  }
 ],
 "metadata": {
  "kernelspec": {
   "display_name": "Python 3",
   "language": "python",
   "name": "python3"
  },
  "language_info": {
   "codemirror_mode": {
    "name": "ipython",
    "version": 3
   },
   "file_extension": ".py",
   "mimetype": "text/x-python",
   "name": "python",
   "nbconvert_exporter": "python",
   "pygments_lexer": "ipython3",
   "version": "3.8.3"
  }
 },
 "nbformat": 4,
 "nbformat_minor": 5
}
