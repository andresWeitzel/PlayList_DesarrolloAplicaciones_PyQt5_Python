{
 "cells": [
  {
   "cell_type": "code",
   "execution_count": 1,
   "id": "37705011",
   "metadata": {},
   "outputs": [
    {
     "data": {
      "text/plain": [
       "0"
      ]
     },
     "execution_count": 1,
     "metadata": {},
     "output_type": "execute_result"
    }
   ],
   "source": [
    "import sys\n",
    "from PyQt5.QtWidgets import QApplication, QLabel,QVBoxLayout,QWidget\n",
    "\n",
    "app = QApplication(sys.argv)\n",
    "\n",
    "# ============== ETIQUETA ==================\n",
    "textoEtiqueta01 = \"Nombre = MARCELA | Apellido = PEREZ | Edad= 45 | Nro. Doc = 37645788\"\n",
    "textoEtiqueta02 = \"Nombre = ALBERTO | Apellido = SANSIN | Edad= 25 | Nro. Doc = 376232388\"\n",
    "textoEtiqueta03 = \"Nombre = JUAN | Apellido = GUTIERREZ | Edad= 31 | Nro. Doc = 376433388\"\n",
    "\n",
    "etiqueta01 = QLabel(textoEtiqueta01)\n",
    "etiqueta02 = QLabel(textoEtiqueta02)\n",
    "etiqueta03 = QLabel(textoEtiqueta03)\n",
    "\n",
    "\n",
    "# =============== CONTENEDOR ETIQUETA ===============\n",
    "contenedorEtiqueta = QVBoxLayout()\n",
    "\n",
    "contenedorEtiqueta.addWidget(etiqueta01)\n",
    "contenedorEtiqueta.addWidget(etiqueta02)\n",
    "contenedorEtiqueta.addWidget(etiqueta03)\n",
    "\n",
    "# ================ CONTENEDOR PRINCIPAL ===========\n",
    "contenedorPrincipal = QWidget()\n",
    "\n",
    "contenedorPrincipal.setLayout(contenedorEtiqueta)\n",
    "\n",
    "contenedorPrincipal.resize(400 , 200)\n",
    "contenedorPrincipal.setWindowTitle('Etiquetas')\n",
    "\n",
    "#=============== EJECUCION ==================\n",
    "contenedorPrincipal.show()\n",
    "\n",
    "app.exec_()\n",
    "\n",
    "\n"
   ]
  },
  {
   "cell_type": "code",
   "execution_count": null,
   "id": "c0797f9d",
   "metadata": {},
   "outputs": [],
   "source": []
  }
 ],
 "metadata": {
  "kernelspec": {
   "display_name": "Python 3",
   "language": "python",
   "name": "python3"
  },
  "language_info": {
   "codemirror_mode": {
    "name": "ipython",
    "version": 3
   },
   "file_extension": ".py",
   "mimetype": "text/x-python",
   "name": "python",
   "nbconvert_exporter": "python",
   "pygments_lexer": "ipython3",
   "version": "3.8.3"
  }
 },
 "nbformat": 4,
 "nbformat_minor": 5
}
