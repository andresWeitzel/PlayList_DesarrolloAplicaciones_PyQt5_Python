{
 "cells": [
  {
   "cell_type": "code",
   "execution_count": 2,
   "id": "e1c4d782",
   "metadata": {},
   "outputs": [
    {
     "name": "stdout",
     "output_type": "stream",
     "text": [
      "Click en el Boton\n",
      "Click en el Boton\n",
      "Click en el Boton\n",
      "Click en el Boton\n",
      "Click en el Boton\n",
      "Click en el Boton\n",
      "Click en el Boton\n",
      "Click en el Boton\n",
      "Click en el Boton\n",
      "Click en el Boton\n",
      "Click en el Boton\n",
      "Click en el Boton\n",
      "Click en el Boton\n",
      "Click en el Boton\n",
      "Click en el Boton\n",
      "Click en el Boton\n",
      "Click en el Boton\n"
     ]
    },
    {
     "data": {
      "text/plain": [
       "0"
      ]
     },
     "execution_count": 2,
     "metadata": {},
     "output_type": "execute_result"
    }
   ],
   "source": [
    "'''\n",
    "En Python los eventos(palabra tecnica correcta) para la UI\n",
    "se les dice Señales y Ranuras, quedate con eventos.\n",
    "Los eventos se lanzan a traves de un disparador cuando\n",
    "hay una modificacion o se realiza una accion, en este\n",
    "caso tocamos el boton.\n",
    "\n",
    "Para la ranura(el disparador de ese evento) del boton\n",
    "es nombreDelObjetoBoton.clicked.connect()\n",
    "\n",
    "La Señal(El evento) sería QPushButton, osea nuestro objeto..\n",
    "\n",
    "nombreDelObjetoBoton = QPushButton(\"Boton\")\n",
    "\n",
    "Vamos a crear una funcion que seria nuestro evento y \n",
    "realice algo cuando lo presionamos, voy a declarar\n",
    "la funcion\n",
    "\n",
    "def clickBoton():\n",
    "    print(\"Click en el Boton!\")\n",
    "\n",
    "Entonces le pasamos esta funcion a la Ranura/disparador creada\n",
    "sin el parentesis de la funcion(NI IDEA POR QUE ES ASI)\n",
    "\n",
    "nombreDelObjetoBoton.clicked.connect(clickBoton)\n",
    "\n",
    "Tambien nos aseguramos de que el boton tenga un estado\n",
    "inicial para que pueda cambiar luego\n",
    "codigo..\n",
    "\n",
    "nombreDelObjetoBoton.setCheckable(True)\n",
    "'''\n",
    "\n",
    "import sys\n",
    "from PyQt5.QtWidgets import QApplication, QPushButton\n",
    "\n",
    "app = QApplication(sys.argv)\n",
    "\n",
    "#=============== FUNCION BOTON ==================\n",
    "def clickBoton():\n",
    "    print(\"Click en el Boton\")\n",
    "\n",
    "#=============== BOTON ==================\n",
    "\n",
    "#Instanciamos un objeto de la clase QPushButton\n",
    "boton = QPushButton(\"Boton\")\n",
    "\n",
    "boton.resize(300,300)\n",
    "boton.setWindowTitle('Ventana Boton')\n",
    "\n",
    "#Habilitamos el cambio de estado\n",
    "boton.setCheckable(True)\n",
    "boton.clicked.connect(clickBoton)\n",
    "\n",
    "#=============== EJECUCION ==================\n",
    "boton.show()\n",
    "\n",
    "app.exec_()\n",
    "\n",
    "\n"
   ]
  },
  {
   "cell_type": "code",
   "execution_count": null,
   "id": "7b827805",
   "metadata": {},
   "outputs": [],
   "source": []
  },
  {
   "cell_type": "code",
   "execution_count": null,
   "id": "83b75e79",
   "metadata": {},
   "outputs": [],
   "source": []
  }
 ],
 "metadata": {
  "kernelspec": {
   "display_name": "Python 3",
   "language": "python",
   "name": "python3"
  },
  "language_info": {
   "codemirror_mode": {
    "name": "ipython",
    "version": 3
   },
   "file_extension": ".py",
   "mimetype": "text/x-python",
   "name": "python",
   "nbconvert_exporter": "python",
   "pygments_lexer": "ipython3",
   "version": "3.8.3"
  }
 },
 "nbformat": 4,
 "nbformat_minor": 5
}
