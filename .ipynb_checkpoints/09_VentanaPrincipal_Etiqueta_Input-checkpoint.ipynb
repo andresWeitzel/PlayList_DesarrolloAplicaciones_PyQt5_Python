{
 "cells": [
  {
   "cell_type": "code",
   "execution_count": 1,
   "id": "6e756042",
   "metadata": {},
   "outputs": [
    {
     "data": {
      "text/plain": [
       "0"
      ]
     },
     "execution_count": 1,
     "metadata": {},
     "output_type": "execute_result"
    }
   ],
   "source": [
    "'''\n",
    "Para el Input importamos QLineEdit \n",
    "\n",
    "'''\n",
    "import sys\n",
    "from PyQt5.QtWidgets import QApplication, QLabel, QLineEdit, QVBoxLayout, QWidget\n",
    "\n",
    "app = QApplication(sys.argv)\n",
    "\n",
    "#=============== ETIQUETA ==================\n",
    "#Vacio porque vamos a colocar en la etiqueta lo que ingresemos\n",
    "etiqueta = QLabel()\n",
    "\n",
    "#=============== INPUT==================\n",
    "input=QLineEdit()\n",
    "input.textChanged.connect(etiqueta.setText)\n",
    "\n",
    "\n",
    "#=============== CONTENEDOR ETIQUETA ==================\n",
    "contenedorEtiquetaInput = QVBoxLayout()\n",
    "\n",
    "contenedorEtiquetaInput.addWidget(input)\n",
    "contenedorEtiquetaInput.addWidget(etiqueta)\n",
    "\n",
    "#=============== CONTENEDOR PRINCIPAL ==================\n",
    "contenedorPrincipal = QWidget()\n",
    "\n",
    "contenedorPrincipal.setLayout(contenedorEtiquetaInput)\n",
    "\n",
    "contenedorPrincipal.resize(400,200)\n",
    "contenedorPrincipal.setWindowTitle('Etiqueta Input')\n",
    "\n",
    "\n",
    "contenedorPrincipal.show()\n",
    "\n",
    "\n",
    "\n",
    "app.exec()"
   ]
  },
  {
   "cell_type": "code",
   "execution_count": null,
   "id": "ed685af6",
   "metadata": {},
   "outputs": [],
   "source": []
  }
 ],
 "metadata": {
  "kernelspec": {
   "display_name": "Python 3",
   "language": "python",
   "name": "python3"
  },
  "language_info": {
   "codemirror_mode": {
    "name": "ipython",
    "version": 3
   },
   "file_extension": ".py",
   "mimetype": "text/x-python",
   "name": "python",
   "nbconvert_exporter": "python",
   "pygments_lexer": "ipython3",
   "version": "3.8.3"
  }
 },
 "nbformat": 4,
 "nbformat_minor": 5
}
