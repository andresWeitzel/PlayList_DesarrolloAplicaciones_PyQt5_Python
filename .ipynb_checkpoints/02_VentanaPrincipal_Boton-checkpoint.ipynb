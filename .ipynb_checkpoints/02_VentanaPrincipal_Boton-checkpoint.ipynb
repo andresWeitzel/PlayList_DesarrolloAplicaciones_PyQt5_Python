{
 "cells": [
  {
   "cell_type": "code",
   "execution_count": 1,
   "id": "0d686026",
   "metadata": {},
   "outputs": [
    {
     "data": {
      "text/plain": [
       "0"
      ]
     },
     "execution_count": 1,
     "metadata": {},
     "output_type": "execute_result"
    }
   ],
   "source": [
    "'''\n",
    "QT Maneja todo en Ventanas Aparte, si usamos el widget, \n",
    "el Boton y mostramos ambas por pantalla, nos crea ventanas\n",
    "separadas\n",
    "por eso directamente instanciamos un objeto de la Clase\n",
    "QPushButton\n",
    "\n",
    "PARA LA POO, EL CODIGO ES INCORRECTO, YA QUE SE DEBE \n",
    "MODULARIZAR\n",
    "Y TRABAJAR CON CLASES, ETC.\n",
    "\n",
    "LO ESCRIBO ASI PARA QUE SEA MAS SENCILLO LA COMPRENSION\n",
    "\n",
    "'''\n",
    "import sys\n",
    "from PyQt5.QtWidgets import QApplication, QPushButton\n",
    "\n",
    "app = QApplication(sys.argv)\n",
    "\n",
    "#=============== BOTON ==================\n",
    "\n",
    "#Instanciamos un objeto de la clase QPushButton\n",
    "boton = QPushButton(\"Boton\")\n",
    "\n",
    "boton.resize(300,300)\n",
    "boton.setWindowTitle('Ventana Boton')\n",
    "\n",
    "#=============== EJECUCION ==================\n",
    "boton.show()\n",
    "\n",
    "app.exec_()\n"
   ]
  },
  {
   "cell_type": "code",
   "execution_count": null,
   "id": "7328d12d",
   "metadata": {},
   "outputs": [],
   "source": []
  }
 ],
 "metadata": {
  "kernelspec": {
   "display_name": "Python 3",
   "language": "python",
   "name": "python3"
  },
  "language_info": {
   "codemirror_mode": {
    "name": "ipython",
    "version": 3
   },
   "file_extension": ".py",
   "mimetype": "text/x-python",
   "name": "python",
   "nbconvert_exporter": "python",
   "pygments_lexer": "ipython3",
   "version": "3.8.3"
  }
 },
 "nbformat": 4,
 "nbformat_minor": 5
}
