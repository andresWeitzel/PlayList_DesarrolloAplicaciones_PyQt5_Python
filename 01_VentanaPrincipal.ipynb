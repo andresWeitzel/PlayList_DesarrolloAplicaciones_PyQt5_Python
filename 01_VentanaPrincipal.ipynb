{
 "cells": [
  {
   "cell_type": "code",
   "execution_count": 1,
   "id": "df8117b6",
   "metadata": {},
   "outputs": [
    {
     "data": {
      "text/plain": [
       "'\\n1)Guia de Referancia --> https://www.riverbankcomputing.com/static/Docs/PyQt6/\\n2)Instalacion librerias para GUI por CMD --> pip install PyQt6 \\n3)Posibles errores de instalación --> https://www.riverbankcomputing.com/static/Docs/PyQt6/installation.html\\n4)Video que recomiendo(Ingles) --> https://www.youtube.com/watch?v=ot94H3-d5d8\\n5)Documentacion que recomiendo --> https://www.guru99.com/pyqt-tutorial.html\\n'"
      ]
     },
     "execution_count": 1,
     "metadata": {},
     "output_type": "execute_result"
    }
   ],
   "source": [
    "'''\n",
    "1)Guia de Referancia --> https://www.riverbankcomputing.com/static/Docs/PyQt6/\n",
    "2)Instalacion librerias para GUI por CMD --> pip install PyQt6 \n",
    "3)Posibles errores de instalación --> https://www.riverbankcomputing.com/static/Docs/PyQt6/installation.html\n",
    "4)Video que recomiendo(Ingles) --> https://www.youtube.com/watch?v=ot94H3-d5d8\n",
    "5)Documentacion que recomiendo --> https://www.guru99.com/pyqt-tutorial.html\n",
    "'''\n"
   ]
  },
  {
   "cell_type": "code",
   "execution_count": 2,
   "id": "1fdec621",
   "metadata": {},
   "outputs": [
    {
     "data": {
      "text/plain": [
       "0"
      ]
     },
     "execution_count": 2,
     "metadata": {},
     "output_type": "execute_result"
    }
   ],
   "source": [
    "import sys\n",
    "from PyQt5.QtWidgets import QApplication, QWidget\n",
    "\n",
    "#Creamos un objeto de la clase QApplication\n",
    "#sys.argv inicia la app en la shell/bash\n",
    "app = QApplication(sys.argv)\n",
    "\n",
    "#Creamos un objeto de la clase QWidget y manejamos \n",
    "#sus funciones\n",
    "ventanaPrincipal = QWidget()\n",
    "\n",
    "#Mostramos la pantalla\n",
    "ventanaPrincipal.show()\n",
    "\n",
    "#Iniciamos los eventos de las librerias del codigo fuente\n",
    "app.exec_()\n"
   ]
  },
  {
   "cell_type": "code",
   "execution_count": 1,
   "id": "1c03bb7e",
   "metadata": {},
   "outputs": [
    {
     "data": {
      "text/plain": [
       "0"
      ]
     },
     "execution_count": 1,
     "metadata": {},
     "output_type": "execute_result"
    }
   ],
   "source": [
    "'''\n",
    "Agregamos un nombre a nuestra ventana y la redimensionamos\n",
    "'''\n",
    "import sys\n",
    "from PyQt5.QtWidgets import QApplication, QWidget\n",
    "\n",
    "#Creamos un objeto de la clase QApplication\n",
    "#sys.argv inicia la app en la shell/bash\n",
    "app = QApplication(sys.argv)\n",
    "\n",
    "#Creamos un objeto de la clase QWidget y manejamos \n",
    "#sus funciones\n",
    "ventanaPrincipal = QWidget()\n",
    "\n",
    "#Dimensionamiento de la Ventana\n",
    "ventanaPrincipal.resize(200,200)\n",
    "\n",
    "#Titulo de la Ventanana\n",
    "ventanaPrincipal.setWindowTitle('Ventana Principal')\n",
    "\n",
    "\n",
    "#Mostramos la pantalla\n",
    "ventanaPrincipal.show()\n",
    "\n",
    "#Iniciamos los eventos de las librerias del codigo fuente\n",
    "app.exec_()\n"
   ]
  },
  {
   "cell_type": "code",
   "execution_count": null,
   "id": "3e177a3c",
   "metadata": {},
   "outputs": [],
   "source": []
  }
 ],
 "metadata": {
  "kernelspec": {
   "display_name": "Python 3",
   "language": "python",
   "name": "python3"
  },
  "language_info": {
   "codemirror_mode": {
    "name": "ipython",
    "version": 3
   },
   "file_extension": ".py",
   "mimetype": "text/x-python",
   "name": "python",
   "nbconvert_exporter": "python",
   "pygments_lexer": "ipython3",
   "version": "3.8.3"
  }
 },
 "nbformat": 4,
 "nbformat_minor": 5
}
