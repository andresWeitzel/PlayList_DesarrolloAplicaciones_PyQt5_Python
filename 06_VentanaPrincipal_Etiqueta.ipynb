{
 "cells": [
  {
   "cell_type": "code",
   "execution_count": 2,
   "id": "1abef2fa",
   "metadata": {},
   "outputs": [],
   "source": [
    "'''\n",
    "Para usar etiquetas estaticas debemos incluirlas dentro\n",
    "de un contenedor o diseño(layout) y a su vez, el diseño\n",
    "dentro de un contenedor principal o padre. Para eso debemos\n",
    "usar los modulos QVBoxLayout, y QWidget.\n",
    "El primer modulo sera para implementar el contenedor que va a \n",
    "contenedor las etiquetas y el segundo para añadir todos los \n",
    "elementos al contenedor principal\n",
    "\n",
    "'''\n",
    "\n"
   ]
  },
  {
   "cell_type": "code",
   "execution_count": 1,
   "id": "7447e003",
   "metadata": {},
   "outputs": [
    {
     "data": {
      "text/plain": [
       "0"
      ]
     },
     "execution_count": 1,
     "metadata": {},
     "output_type": "execute_result"
    }
   ],
   "source": [
    "import sys\n",
    "from PyQt5.QtWidgets import QApplication, QLabel,QVBoxLayout,QWidget\n",
    "\n",
    "app = QApplication(sys.argv)\n",
    "\n",
    "# ============== ETIQUETA ==================\n",
    "textoEtiqueta = \"Nombre = MARCELA | Apellido = PEREZ | Edad= 45 | Nro. Doc = 37645788\"\n",
    "\n",
    "etiqueta=QLabel(textoEtiqueta)\n",
    "\n",
    "\n",
    "# =============== CONTENEDOR ETIQUETA ===============\n",
    "contenedorEtiqueta = QVBoxLayout()\n",
    "\n",
    "contenedorEtiqueta.addWidget(etiqueta)\n",
    "\n",
    "# ================ CONTENEDOR PRINCIPAL ===========\n",
    "contenedorPrincipal = QWidget()\n",
    "\n",
    "contenedorPrincipal.setLayout(contenedorEtiqueta)\n",
    "\n",
    "contenedorPrincipal.resize(400 , 200)\n",
    "contenedorPrincipal.setWindowTitle('Etiquetas')\n",
    "\n",
    "#=============== EJECUCION ==================\n",
    "contenedorPrincipal.show()\n",
    "\n",
    "app.exec_()\n",
    "\n",
    "\n"
   ]
  },
  {
   "cell_type": "code",
   "execution_count": null,
   "id": "40b37908",
   "metadata": {},
   "outputs": [],
   "source": []
  }
 ],
 "metadata": {
  "kernelspec": {
   "display_name": "Python 3",
   "language": "python",
   "name": "python3"
  },
  "language_info": {
   "codemirror_mode": {
    "name": "ipython",
    "version": 3
   },
   "file_extension": ".py",
   "mimetype": "text/x-python",
   "name": "python",
   "nbconvert_exporter": "python",
   "pygments_lexer": "ipython3",
   "version": "3.8.3"
  }
 },
 "nbformat": 4,
 "nbformat_minor": 5
}
